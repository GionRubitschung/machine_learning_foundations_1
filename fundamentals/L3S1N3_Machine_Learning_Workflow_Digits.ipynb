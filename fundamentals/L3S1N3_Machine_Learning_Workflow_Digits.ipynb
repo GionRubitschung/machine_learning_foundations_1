{
 "cells": [
  {
   "cell_type": "markdown",
   "metadata": {},
   "source": [
    "# Machine Learning Workflow Digits\n",
    "\n",
    "Based on working our way through the Machine Learning Workflow Iris notebook this notebook focuses on\n",
    "providing some exercise for establishing a machine learning workflow.\n",
    "\n",
    "1. Dataset Curation\n",
    "2. Dataset Pre-processing\n",
    "3. Dataset Provision\n",
    "4. Training Configuration\n",
    "5. Model Training Run\n",
    "6. Evaluation\n",
    "7. Iterative Optimisation\n",
    "\n",
    "You can read more a bit more on the dataset here: http://archive.ics.uci.edu/ml/datasets/Pen-Based+Recognition+of+Handwritten+Digits\n",
    "\n",
    "\n"
   ]
  },
  {
   "cell_type": "markdown",
   "metadata": {},
   "source": [
    "# [Step 2] Dataset Pre-Processing\n",
    "\n",
    "The easiest way to load the Digits dataset is to use the built-in functionality of sci-kit learn.\n",
    "\n",
    "You can load the IRIS dataset with the following commmands:\n",
    "\n",
    "``from sklearn import datasets\n",
    "iris = datasets.load_digits()\n",
    "``\n",
    "\n",
    "However, to practice the initial steps of the machine learning workflow we will \n",
    "\n"
   ]
  },
  {
   "cell_type": "markdown",
   "metadata": {},
   "source": [
    "## Exercise Downloading the Data\n",
    "\n",
    "The data for the Digits dataset can be downloaded from.\n",
    "\n",
    "http://archive.ics.uci.edu/ml/machine-learning-databases/pendigits/\n",
    " \n",
    "\n",
    "On a Linux or Mac OS machine you can use the following commands to download the files to a local directory.\n"
   ]
  },
  {
   "cell_type": "code",
   "execution_count": 90,
   "metadata": {},
   "outputs": [
    {
     "name": "stdout",
     "output_type": "stream",
     "text": [
      "--2023-10-24 18:46:58--  https://archive.ics.uci.edu/ml/machine-learning-databases/pendigits/pendigits.tra\n",
      "Resolving archive.ics.uci.edu (archive.ics.uci.edu)... 128.195.10.252\n",
      "Connecting to archive.ics.uci.edu (archive.ics.uci.edu)|128.195.10.252|:443... "
     ]
    },
    {
     "name": "stdout",
     "output_type": "stream",
     "text": [
      "connected.\n",
      "HTTP request sent, awaiting response... 200 OK\n",
      "Length: unspecified\n",
      "Saving to: ‘pendigits.tra.8’\n",
      "\n",
      "pendigits.tra.8         [   <=>              ] 490,33K   655KB/s    in 0,7s    \n",
      "\n",
      "2023-10-24 18:47:00 (655 KB/s) - ‘pendigits.tra.8’ saved [502098]\n",
      "\n"
     ]
    }
   ],
   "source": [
    "# wget is a handy command line utility that allows downloading the specified URL\n",
    "!wget https://archive.ics.uci.edu/ml/machine-learning-databases/pendigits/pendigits.tra"
   ]
  },
  {
   "cell_type": "markdown",
   "metadata": {},
   "source": [
    "## Exercise: Inspecting the  Digits Dataset Format\n",
    "\n",
    "Using the command line (or a text editor) we can inspect that dataset.\n",
    "\n",
    "The `!` operator will allow you to execute command line commands from a Jupyter cell. \n",
    "This should work on all supported operating systems (Mac OS, Linux, Windows).\n",
    "\n",
    "On a mac or linux machine you can make use of the following command line commands:\n",
    "\n",
    "* `head` : Show top n lines of a text file\n",
    "* `tail` : Show last n lines of a text file\n",
    "* `cat`  : Print full content of a text file\n",
    "* `wc -l`: Count number of lines of a text file\n",
    "\n",
    "On a Windows machine the following should work:\n",
    "\n",
    "* `more` : Show content of a text file (might hang in Jupyter)\n",
    "* `type` : Print content of a text file "
   ]
  },
  {
   "cell_type": "code",
   "execution_count": 91,
   "metadata": {},
   "outputs": [
    {
     "name": "stdout",
     "output_type": "stream",
     "text": [
      " 47,100, 27, 81, 57, 37, 26,  0,  0, 23, 56, 53,100, 90, 40, 98, 8\n",
      "  0, 89, 27,100, 42, 75, 29, 45, 15, 15, 37,  0, 69,  2,100,  6, 2\n",
      "  0, 57, 31, 68, 72, 90,100,100, 76, 75, 50, 51, 28, 25, 16,  0, 1\n",
      "  0,100,  7, 92,  5, 68, 19, 45, 86, 34,100, 45, 74, 23, 67,  0, 4\n",
      "  0, 67, 49, 83,100,100, 81, 80, 60, 60, 40, 40, 33, 20, 47,  0, 1\n",
      "100,100, 88, 99, 49, 74, 17, 47,  0, 16, 37,  0, 73, 16, 20, 20, 6\n",
      "  0,100,  3, 72, 26, 35, 85, 35,100, 71, 73, 97, 65, 49, 66,  0, 4\n",
      "  0, 39,  2, 62, 11,  5, 63,  0,100, 43, 89, 99, 36,100,  0, 57, 0\n",
      " 13, 89, 12, 50, 72, 38, 56,  0,  4, 17,  0, 61, 32, 94,100,100, 5\n",
      " 57,100, 22, 72,  0, 31, 25,  0, 75, 13,100, 50, 75, 87, 26, 85, 0\n"
     ]
    }
   ],
   "source": [
    "# head and tail are other useful command line utilities on a linux machine that allow us to see the first n or last \n",
    "# n lines of a text file.\n",
    "\n",
    "# Take your time to inspect both files with the head and tail commands. If you know that a file is not too long you can\n",
    "# also make use of the cat command that prints an entire files contents. For large files this is not advised as it can \n",
    "# easily overpower the javascript based rendering on the browser.\n",
    "!head pendigits.tra"
   ]
  },
  {
   "cell_type": "markdown",
   "metadata": {},
   "source": [
    "# [Step 3] Provision: Loading the Dataset into a Dataframe|"
   ]
  },
  {
   "cell_type": "markdown",
   "metadata": {},
   "source": [
    "### Exercise: Load the Digits CSV files with pandas\n",
    "\n",
    "Lets create the test and train portions from the beginning based on the structure of the digits dataset."
   ]
  },
  {
   "cell_type": "code",
   "execution_count": 92,
   "metadata": {},
   "outputs": [
    {
     "data": {
      "text/plain": [
       "array([8, 2, 1, 4, 6, 0, 5, 9, 7, 3])"
      ]
     },
     "execution_count": 92,
     "metadata": {},
     "output_type": "execute_result"
    }
   ],
   "source": [
    "# You can use the head() method in order to inspect the loaded dataframe.\n",
    "# Your result should look exactly like shown below.\n",
    "# If your result looks different then please have a look at the documentation of the parameters of the read_csv method \n",
    "# and load the data again. \n",
    "\n",
    "import pandas as pd\n",
    "\n",
    "df = pd.read_csv('pendigits.tra', header=None)\n",
    "df.head()\n",
    "# Written nums from 0-9 with their pixel representation\n",
    "df[16].unique()"
   ]
  },
  {
   "cell_type": "markdown",
   "metadata": {},
   "source": [
    "***Exercise***: Inspect the dataframes with the shape, ndim and len() attributes and methods."
   ]
  },
  {
   "cell_type": "code",
   "execution_count": 93,
   "metadata": {},
   "outputs": [],
   "source": [
    "# Inspect the digits dataframes you have created for test and train\n",
    "df_shuffled = df.sample(frac=1.0)\n",
    "\n",
    "size_training_set = int(len(df) * 0.8)\n",
    "df_train = df_shuffled[:size_training_set]\n",
    "df_test = df_shuffled[size_training_set:]\n",
    "\n",
    "df_train_input = df_train.loc[:, 0:15]\n",
    "df_train_output = df_train[[16]]\n",
    "\n",
    "df_test_input = df_test.loc[:, 0:15]\n",
    "df_test_output = df_test[[16]]\n",
    "\n",
    "# Alternetaviely we can use scikit-learn to do this for us\n",
    "from sklearn.model_selection import train_test_split\n",
    "X = df[df.columns[:-1]]\n",
    "y = df[df.columns[-1]]\n",
    "X_train, X_test, y_train, y_test = train_test_split(X, y, test_size=0.3)"
   ]
  },
  {
   "cell_type": "markdown",
   "metadata": {},
   "source": [
    "***Exercise: Create the Input and Response Dataframes for Test and Train Portions***\n",
    "\n",
    "Use the tooling we introduced before in order to inspect your newly created dataframes. \n",
    "\n",
    "* `head()`\n",
    "* `shape`\n",
    "* `dim`\n",
    "* `len()`\n"
   ]
  },
  {
   "cell_type": "code",
   "execution_count": 94,
   "metadata": {},
   "outputs": [
    {
     "data": {
      "text/html": [
       "<div>\n",
       "<style scoped>\n",
       "    .dataframe tbody tr th:only-of-type {\n",
       "        vertical-align: middle;\n",
       "    }\n",
       "\n",
       "    .dataframe tbody tr th {\n",
       "        vertical-align: top;\n",
       "    }\n",
       "\n",
       "    .dataframe thead th {\n",
       "        text-align: right;\n",
       "    }\n",
       "</style>\n",
       "<table border=\"1\" class=\"dataframe\">\n",
       "  <thead>\n",
       "    <tr style=\"text-align: right;\">\n",
       "      <th></th>\n",
       "      <th>0</th>\n",
       "      <th>1</th>\n",
       "      <th>2</th>\n",
       "      <th>3</th>\n",
       "      <th>4</th>\n",
       "      <th>5</th>\n",
       "      <th>6</th>\n",
       "      <th>7</th>\n",
       "      <th>8</th>\n",
       "      <th>9</th>\n",
       "      <th>10</th>\n",
       "      <th>11</th>\n",
       "      <th>12</th>\n",
       "      <th>13</th>\n",
       "      <th>14</th>\n",
       "      <th>15</th>\n",
       "    </tr>\n",
       "  </thead>\n",
       "  <tbody>\n",
       "    <tr>\n",
       "      <th>7232</th>\n",
       "      <td>21</td>\n",
       "      <td>69</td>\n",
       "      <td>0</td>\n",
       "      <td>48</td>\n",
       "      <td>19</td>\n",
       "      <td>7</td>\n",
       "      <td>61</td>\n",
       "      <td>0</td>\n",
       "      <td>94</td>\n",
       "      <td>30</td>\n",
       "      <td>100</td>\n",
       "      <td>74</td>\n",
       "      <td>67</td>\n",
       "      <td>100</td>\n",
       "      <td>29</td>\n",
       "      <td>83</td>\n",
       "    </tr>\n",
       "    <tr>\n",
       "      <th>5973</th>\n",
       "      <td>79</td>\n",
       "      <td>70</td>\n",
       "      <td>18</td>\n",
       "      <td>71</td>\n",
       "      <td>38</td>\n",
       "      <td>100</td>\n",
       "      <td>72</td>\n",
       "      <td>80</td>\n",
       "      <td>85</td>\n",
       "      <td>48</td>\n",
       "      <td>100</td>\n",
       "      <td>16</td>\n",
       "      <td>57</td>\n",
       "      <td>0</td>\n",
       "      <td>0</td>\n",
       "      <td>15</td>\n",
       "    </tr>\n",
       "    <tr>\n",
       "      <th>1535</th>\n",
       "      <td>0</td>\n",
       "      <td>69</td>\n",
       "      <td>23</td>\n",
       "      <td>83</td>\n",
       "      <td>82</td>\n",
       "      <td>100</td>\n",
       "      <td>100</td>\n",
       "      <td>95</td>\n",
       "      <td>86</td>\n",
       "      <td>70</td>\n",
       "      <td>75</td>\n",
       "      <td>44</td>\n",
       "      <td>62</td>\n",
       "      <td>19</td>\n",
       "      <td>64</td>\n",
       "      <td>0</td>\n",
       "    </tr>\n",
       "    <tr>\n",
       "      <th>3071</th>\n",
       "      <td>17</td>\n",
       "      <td>99</td>\n",
       "      <td>39</td>\n",
       "      <td>72</td>\n",
       "      <td>94</td>\n",
       "      <td>42</td>\n",
       "      <td>65</td>\n",
       "      <td>0</td>\n",
       "      <td>16</td>\n",
       "      <td>25</td>\n",
       "      <td>0</td>\n",
       "      <td>74</td>\n",
       "      <td>27</td>\n",
       "      <td>100</td>\n",
       "      <td>100</td>\n",
       "      <td>99</td>\n",
       "    </tr>\n",
       "    <tr>\n",
       "      <th>5264</th>\n",
       "      <td>49</td>\n",
       "      <td>72</td>\n",
       "      <td>99</td>\n",
       "      <td>97</td>\n",
       "      <td>100</td>\n",
       "      <td>100</td>\n",
       "      <td>81</td>\n",
       "      <td>60</td>\n",
       "      <td>66</td>\n",
       "      <td>20</td>\n",
       "      <td>0</td>\n",
       "      <td>0</td>\n",
       "      <td>9</td>\n",
       "      <td>3</td>\n",
       "      <td>99</td>\n",
       "      <td>8</td>\n",
       "    </tr>\n",
       "  </tbody>\n",
       "</table>\n",
       "</div>"
      ],
      "text/plain": [
       "      0   1   2   3    4    5    6   7   8   9    10  11  12   13   14  15\n",
       "7232  21  69   0  48   19    7   61   0  94  30  100  74  67  100   29  83\n",
       "5973  79  70  18  71   38  100   72  80  85  48  100  16  57    0    0  15\n",
       "1535   0  69  23  83   82  100  100  95  86  70   75  44  62   19   64   0\n",
       "3071  17  99  39  72   94   42   65   0  16  25    0  74  27  100  100  99\n",
       "5264  49  72  99  97  100  100   81  60  66  20    0   0   9    3   99   8"
      ]
     },
     "execution_count": 94,
     "metadata": {},
     "output_type": "execute_result"
    }
   ],
   "source": [
    "# Inspect your dataframes with the above tools in order to get familiar with them\n",
    "# Inspecting the intermediary artifacts in the machine learning workflow is a common and crucial task.\n",
    "# It is easy to imagine how one can be off when sub-setting or slicing through the input data by making a mistake. \n",
    "# These kind of errors are usually disastrous in terms of the outcome of the trained model. The earlier we catch them\n",
    "# the less expensive they are to fix.\n",
    "\n",
    "df_train_input.head()\n",
    "# df_train_input.shape\n",
    "# df_train_input.ndim\n",
    "# len(df_train_input)"
   ]
  },
  {
   "cell_type": "markdown",
   "metadata": {},
   "source": [
    "# [Step 4] Training Configuration\n",
    "\n",
    "The next step consist of creating the configuration for the training. \n",
    "\n",
    "The main dependencies for choosing a training set up are:\n",
    "\n",
    "* The data used for training (data type, quality, amount)\n",
    "* The task we want to solve (what we want the machine learning system to achieve)\n",
    "\n",
    "Based on these two aspects designing the training set up consists of the following steps:\n",
    "\n",
    "1. Choose training algorithm\n",
    "2. Create initial configuration for training algorithm\n",
    "\n",
    "## Criteria for Choosing A ML Algorithm\n",
    "\n",
    "Some main criteria for choosing a training algorithm are the following:\n",
    "\n",
    "* Task Fit : I.e. can the task we want to solve with ML be solved with the given algorithm\n",
    "* Scalability: How scalable in terms of the shape (columns, rows) of the input data is the algorithm \n",
    "    * The amount of features has a major impact on the scalability of algorithms\n",
    "    * The amount of samples (rows) has a major impact on the execution time of the algorithm\n",
    "* Expected Performance: What is the expected accuracy of the algorithm.\n",
    "* Interpretability: How easy, hard is it to understand what is happening in the algorithm. How hard would it be to 'debug' the behaviour of the algorithm.\n",
    "* Updatable Learning: Can the learned model be updated with more data at a later stage.\n",
    "* Availability: In the pragmatic sense; is a trusty implementation of the algorithm available (also from a license perspective).\n",
    "* Solution requirements: Do we have requirements from the software solution side. Maximum latency, memory limitations, etc ... . \n",
    "\n",
    "As the above list highlights, choosing the 'right' algorithm is a complex tasks with many potential considerations.\n",
    "On the flip side it means that making the right choices has massive potential value. \n",
    "\n",
    "## Choosing an Initial Configuration\n",
    "\n",
    "The choice of an initial training configuration often depends mainly on:\n",
    "\n",
    "* Stats of the training data \n",
    "     * Hyperparameters often allow us to adjust the training to the amount of the training data\n",
    "* Experience or documented well working configurations \n",
    "     * This is often based on identifying `baselines` that worked well on data that we deem similar to our training data.\n",
    "     "
   ]
  },
  {
   "cell_type": "markdown",
   "metadata": {},
   "source": [
    "## ML Task\n",
    "\n",
    "By now it should be pretty clear what task fits well with the detection of hand-written digit images."
   ]
  },
  {
   "cell_type": "markdown",
   "metadata": {},
   "source": [
    "## Exercise: Choose Classification Algorithm\n",
    "\n",
    "For this ML task we can consider a variety of classifiers available in sci-kit learn:\n",
    "\n",
    "* https://scikit-learn.org/stable/modules/generated/sklearn.ensemble.RandomForestClassifier.html\n",
    "* https://scikit-learn.org/stable/modules/generated/sklearn.tree.DecisionTreeClassifier.html\n",
    "* https://scikit-learn.org/stable/modules/generated/sklearn.linear_model.LogisticRegression.html\n",
    "* https://scikit-learn.org/stable/modules/generated/sklearn.naive_bayes.MultinomialNB.html\n",
    "\n",
    "The above listing represent some very widely used main classes of classifiers.\n",
    "To proceed choose any of the above classifiers and instantiate it. \n",
    "\n"
   ]
  },
  {
   "cell_type": "code",
   "execution_count": 95,
   "metadata": {},
   "outputs": [],
   "source": [
    "# Exercise: Set up the logistic regression model\n",
    "\n",
    "from sklearn.linear_model import LogisticRegression\n",
    "from sklearn.tree import DecisionTreeClassifier\n",
    "from sklearn.naive_bayes import MultinomialNB\n",
    "from sklearn.ensemble import RandomForestClassifier\n",
    "from sklearn.mixture import GaussianMixture\n",
    "\n",
    "# Precision 0.9582985821517932, max_iter=10000 precision goes to 0.972977481234362\n",
    "# classifier = LogisticRegression(max_iter=10000)\n",
    "\n",
    "# Precision 1.0\n",
    "# classifier = DecisionTreeClassifier()\n",
    "\n",
    "# Precision 0.8353628023352794\n",
    "# classifier = MultinomialNB()\n",
    "\n",
    "# Precision 1.0\n",
    "classifier = RandomForestClassifier()\n",
    "\n",
    "# Precision -68.98149497142781\n",
    "# classifier = GaussianMixture()"
   ]
  },
  {
   "cell_type": "markdown",
   "metadata": {},
   "source": [
    "# [Step 5] Model Training Run - Establishing a Baseline\n",
    "\n",
    "Algorithms in scikit-learn can be trained by using the `fit` method. Calling it `fit` is based on the process of `fitting` the model's weights (also called model parameters) during training.\n",
    "`Fitting` means that the weights of the model are adjusted during the training (a.k.a learning) phase based on the input data we have seen.\n",
    "\n"
   ]
  },
  {
   "cell_type": "markdown",
   "metadata": {},
   "source": [
    "## Exercise: Establishing a Baseline\n",
    "\n",
    "Based on the choosen classifier and the test and train data, lets establish a first baseline for the digits dataset."
   ]
  },
  {
   "cell_type": "code",
   "execution_count": 96,
   "metadata": {},
   "outputs": [],
   "source": [
    "trained_model = classifier.fit(df_train_input, df_train_output.values.ravel())"
   ]
  },
  {
   "cell_type": "markdown",
   "metadata": {},
   "source": [
    "### Testing your trained model\n",
    "\n",
    "As before, use the `predict()` method of the trained model and test the classification by passing in new arrays or slicing part of the test data."
   ]
  },
  {
   "cell_type": "code",
   "execution_count": 97,
   "metadata": {},
   "outputs": [
    {
     "name": "stdout",
     "output_type": "stream",
     "text": [
      "[1 5 7 ... 9 3 7]\n"
     ]
    }
   ],
   "source": [
    "from sklearn.model_selection import train_test_split\n",
    "\n",
    "prediction = trained_model.predict(\n",
    "    df_test_input,\n",
    ")\n",
    "print(prediction)"
   ]
  },
  {
   "cell_type": "markdown",
   "metadata": {},
   "source": [
    "## [Step 6] Evaluation\n",
    "\n",
    "All machine learning models provide a default metric that can be accessed via the score method. \n",
    "\n",
    "Record your first baseline by using the score method."
   ]
  },
  {
   "cell_type": "code",
   "execution_count": 98,
   "metadata": {},
   "outputs": [
    {
     "data": {
      "text/plain": [
       "1.0"
      ]
     },
     "execution_count": 98,
     "metadata": {},
     "output_type": "execute_result"
    }
   ],
   "source": [
    "trained_model.score(df_train_input, df_train_output)"
   ]
  },
  {
   "cell_type": "markdown",
   "metadata": {},
   "source": [
    "### Exercise: Confusion Matrix\n",
    "\n",
    "The following code allows us to instantiate and plot a confusion matrix.\n",
    "\n",
    "    import matplotlib.pyplot as plt\n",
    "    import seaborn as sns; sns.set()\n",
    "    from sklearn.metrics import confusion_matrix\n",
    "\n",
    "    mat = confusion_matrix(array_expected_responses, trained_model.predict(test_input))\n",
    "\n",
    "    sns.heatmap(mat, square=True, annot=True, cbar=False)\n",
    "    plt.xlabel('predicted value')\n",
    "    plt.ylabel('true value');\n",
    "\n",
    "\n",
    "\n",
    "A confusion matrix is a very handy tool to identify where the classifier is likely to make errors.\n",
    "\n",
    "The True Positive (correct decisions) are always depicted on the diagonal of the confusion matrix.\n",
    "If the axis are labeled like in the example configuration below it is easy to identify the errors the model makes.\n",
    "\n",
    "Adapt the above code to create a confusion matrix for your classifier. \n",
    "Evaluate the result of different classifiers.\n",
    "\n",
    "* Do different classifiers make different kinds of mistakes?\n",
    "* Can we identify any patterns in the behaviour of classifiers?\n",
    "* Using the oonfusion matrix to identify the different classifiers should give you a feeling for its usefulness. A score is only a number and does not provide much else. The confusion matrix allows us to develop more insights with regard to the actual behaviour of a trained model.\n"
   ]
  },
  {
   "cell_type": "code",
   "execution_count": 99,
   "metadata": {},
   "outputs": [
    {
     "data": {
      "text/plain": [
       "Text(94.75, 0.5, 'true value')"
      ]
     },
     "execution_count": 99,
     "metadata": {},
     "output_type": "execute_result"
    },
    {
     "data": {
      "image/png": "[encoded data removed]",
      "text/plain": [
       "<Figure size 1000x1000 with 1 Axes>"
      ]
     },
     "metadata": {},
     "output_type": "display_data"
    }
   ],
   "source": [
    "import matplotlib.pyplot as plt\n",
    "import seaborn as sns; sns.set()\n",
    "from sklearn.metrics import confusion_matrix\n",
    "\n",
    "mat = confusion_matrix(df_train_output, trained_model.predict(df_train_input))\n",
    "plt.subplots(figsize=(10,10))\n",
    "sns.heatmap(mat, square=True, annot=True, cbar=False, fmt=\"1\")\n",
    "plt.xlabel('predicted value')\n",
    "plt.ylabel('true value')\n"
   ]
  },
  {
   "cell_type": "markdown",
   "metadata": {},
   "source": [
    "### Exercise: Cross-Validation\n",
    "\n",
    "As we learnt before it is common practice to operate based on a split of test and train data. \n",
    "\n",
    "Testing with unseen data is more realistic than executing the test with data that has already been processed by the trained model. \n",
    "\n",
    "However, we have also seen that the actual split (i.e. which samples end up in train and which in test) can have quite a significant impact on the observed performance.\n",
    "\n",
    "In order to mitigate this effect the method of cross-validation has been invented.\n",
    "Cross-validation simply means that I attempt to split my data `n` times into test and train portions and then run and evaluate my model `n` times with these different splits.\n",
    "\n",
    "One generally speaks of n-fold cross-validation. That means, if we speak of 10-fold cross-validation we will split the data randomly 10 times into a test and train portion, run the training 10 times on these splits, and evaluate 10 times.\n",
    "\n",
    "The main goal is to evaluate outliers in terms of exceptionally good or bad performance that are mainly caused by generating a 'lucky' or 'bad' split of the data.\n",
    "\n",
    "Even though you are using cross-validation we should hold out a dedicated test set.\n",
    "\n",
    "The following link provides instructions of how to apply cross-validation:\n",
    "\n",
    "https://scikit-learn.org/stable/modules/cross_validation.html#computing-cross-validated-metrics\n",
    "\n",
    "Please configure cross-validation and run evaluations on a couple of the classifiers with it.\n",
    "\n",
    "What are some limiting factors for applying cross-validation?"
   ]
  },
  {
   "cell_type": "code",
   "execution_count": 108,
   "metadata": {},
   "outputs": [
    {
     "name": "stdout",
     "output_type": "stream",
     "text": [
      "[0.98333333 1.         0.98333333 1.         1.         1.\n",
      " 1.         0.96666667 1.         1.         1.         0.98333333\n",
      " 0.98333333 1.         1.         0.98333333 0.98333333 1.\n",
      " 1.         1.         1.         0.98333333 1.         1.\n",
      " 1.         0.98333333 0.98333333 1.         1.         0.95\n",
      " 0.98333333 1.         1.         1.         1.         1.\n",
      " 0.96666667 0.96666667 1.         1.         1.         0.98333333\n",
      " 0.98333333 0.98333333 0.98333333 1.         1.         0.98333333\n",
      " 1.         0.98333333 1.         1.         1.         1.\n",
      " 1.         0.95       0.98333333 0.98333333 0.96666667 1.\n",
      " 1.         0.98333333 0.98333333 1.         0.98333333 0.98333333\n",
      " 1.         1.         0.98333333 0.98333333 1.         1.\n",
      " 0.98333333 0.98333333 0.98333333 1.         1.         1.\n",
      " 1.         0.98333333 1.         1.         0.98333333 1.\n",
      " 1.         0.98333333 0.98333333 1.         1.         0.96666667\n",
      " 0.96666667 1.         1.         0.98333333 1.         0.98305085\n",
      " 1.         1.         0.96610169 0.98305085]\n",
      "---\n",
      "0.9909887005649718 accuracy with a standard deviation of 0.011899095106859721\n"
     ]
    }
   ],
   "source": [
    "from sklearn.model_selection import cross_val_score\n",
    "scores = cross_val_score(classifier, df_train_input, df_train_output.values.ravel(), cv=100)\n",
    "print(scores)\n",
    "print(\"---\")\n",
    "print(f\"{scores.mean()} accuracy with a standard deviation of {scores.std()}\")"
   ]
  },
  {
   "cell_type": "code",
   "execution_count": null,
   "metadata": {},
   "outputs": [],
   "source": []
  },
  {
   "cell_type": "code",
   "execution_count": null,
   "metadata": {},
   "outputs": [],
   "source": []
  },
  {
   "cell_type": "code",
   "execution_count": null,
   "metadata": {},
   "outputs": [],
   "source": []
  },
  {
   "cell_type": "code",
   "execution_count": null,
   "metadata": {},
   "outputs": [],
   "source": []
  },
  {
   "cell_type": "code",
   "execution_count": null,
   "metadata": {},
   "outputs": [],
   "source": []
  },
  {
   "cell_type": "code",
   "execution_count": null,
   "metadata": {},
   "outputs": [],
   "source": []
  },
  {
   "cell_type": "code",
   "execution_count": null,
   "metadata": {},
   "outputs": [],
   "source": []
  },
  {
   "cell_type": "code",
   "execution_count": null,
   "metadata": {},
   "outputs": [],
   "source": []
  },
  {
   "cell_type": "code",
   "execution_count": null,
   "metadata": {},
   "outputs": [],
   "source": []
  },
  {
   "cell_type": "code",
   "execution_count": null,
   "metadata": {},
   "outputs": [],
   "source": []
  }
 ],
 "metadata": {
  "kernelspec": {
   "display_name": "Python 3 (ipykernel)",
   "language": "python",
   "name": "python3"
  },
  "language_info": {
   "codemirror_mode": {
    "name": "ipython",
    "version": 3
   },
   "file_extension": ".py",
   "mimetype": "text/x-python",
   "name": "python",
   "nbconvert_exporter": "python",
   "pygments_lexer": "ipython3",
   "version": "3.11.4"
  }
 },
 "nbformat": 4,
 "nbformat_minor": 2
}
